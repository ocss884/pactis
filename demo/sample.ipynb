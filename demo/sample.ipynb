{
 "cells": [
  {
   "cell_type": "code",
   "execution_count": null,
   "metadata": {},
   "outputs": [],
   "source": [
    "import os\n",
    "import sys\n",
    "import torch\n",
    "from torch import nn\n",
    "from pathlib import Path\n",
    "from torch.nn import functional as F\n",
    "\n",
    "path = Path(os.path.abspath(os.curdir)).parent.parent\n",
    "import sys\n",
    "sys.path.append(str(path))\n",
    "\n",
    "from dataclasses import dataclass, asdict\n",
    "\n",
    "from pactis.model.core.adapter import InputAdapter\n",
    "from pactis.model.core.config import LatentQueryConfig, CrossAttentionLayerConfig, SelfAttentionBlockConfig, PerceiverEncoderConfig, PerceiverDecoderConfig\n",
    "from pactis.model.core.encoder import PerceiverIO, PerceiverEncoder, PerceiverDecoder\n",
    "from pactis.model.core.decoder import AttentionalCopula"
   ]
  },
  {
   "cell_type": "code",
   "execution_count": null,
   "metadata": {},
   "outputs": [],
   "source": [
    "device = torch.device(\"cuda\")"
   ]
  },
  {
   "attachments": {},
   "cell_type": "markdown",
   "metadata": {},
   "source": [
    "## Dataset definition"
   ]
  },
  {
   "cell_type": "code",
   "execution_count": null,
   "metadata": {},
   "outputs": [],
   "source": [
    "{\"dsf_marginal\": {\n",
    "                \"mlp_layers\": 1,\n",
    "                \"mlp_dim\": 48,\n",
    "                \"flow_layers\": 3,\n",
    "                \"flow_hid_dim\": 16,\n",
    "            }}"
   ]
  }
 ],
 "metadata": {
  "kernelspec": {
   "display_name": "basenv",
   "language": "python",
   "name": "basenv"
  },
  "language_info": {
   "codemirror_mode": {
    "name": "ipython",
    "version": 3
   },
   "file_extension": ".py",
   "mimetype": "text/x-python",
   "name": "python",
   "nbconvert_exporter": "python",
   "pygments_lexer": "ipython3",
   "version": "3.10.9"
  },
  "orig_nbformat": 4,
  "vscode": {
   "interpreter": {
    "hash": "97cc609b13305c559618ec78a438abc56230b9381f827f22d070313b9a1f3777"
   }
  }
 },
 "nbformat": 4,
 "nbformat_minor": 2
}
